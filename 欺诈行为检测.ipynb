{
 "cells": [
  {
   "cell_type": "markdown",
   "metadata": {},
   "source": [
    "## 欺诈行为检测\n",
    "本案例主要是分析金融交易中如何预测交易双方的欺诈行为, 根据相应的金融交易历史数据, 推断出某笔未知的交易是否为欺诈行为, \n能够辅助企业做出应对客户欺诈行为的措施, 能够在海量交易中帮助企业快速做出决断, 合理判断客户资质以及甄别违法行为等.\n在本案例中, 主要采用逻辑回归的分类方法预测交易行为的性质.\n",
    "\n",
    "本案例及其数据集来源链接:https://www.kaggle.com/ntnu-testimon/paysim1/data"
   ]
  },
  {
   "cell_type": "markdown",
   "metadata": {},
   "source": [
    "案例使用的数据描述如下\n",
    "\n",
    "step 小时\n",
    "\n",
    "type 转账类型, 包含CASH-IN, CASH-OUT, DEBIT, PAYMENT, TRANSFER\n",
    "\n",
    "amount 转账金额\n",
    "\n",
    "nameOrig 转账付款人\n",
    "\n",
    "oldbalanceOrg 付款人交易前账户余额\n",
    "\n",
    "newbalanceOrig 付款人交易后账户余额\n",
    "\n",
    "nameDest 转账收款人\n",
    "\n",
    "oldbalanceDest 收款人交易前账户余额\n",
    "\n",
    "newbalanceDest 收款人交易后账户余额\n",
    "\n",
    "isFraud 是欺诈行为(1), 不是欺诈行为(0)\n",
    "\n",
    "isFlaggedFraud 交易金额是否超过20万货币单位, 是为1, 否为0"
   ]
  },
  {
   "cell_type": "markdown",
   "metadata": {},
   "source": [
    "### 以下为分析过程\n",
    "1. 导入数据集\n",
    "2. 清洗/初步处理数据\n",
    "3. 查看/筛选高价值数据\n",
    "4. 建立和调整数学模型\n",
    "5. 评估模型, 预测结果"
   ]
  },
  {
   "cell_type": "code",
   "execution_count": 1,
   "metadata": {},
   "outputs": [],
   "source": [
    "#导入相关工具库\n",
    "import numpy as np\n",
    "import pandas as pd\n",
    "import matplotlib.pyplot as plt\n",
    "import seaborn as sns\n",
    "%matplotlib inline\n",
    "\n",
    "from sklearn import preprocessing\n",
    "from scipy.stats import skew, boxcox\n",
    "import zipfile\n",
    "import os"
   ]
  },
  {
   "cell_type": "code",
   "execution_count": 2,
   "metadata": {},
   "outputs": [
    {
     "name": "stdout",
     "output_type": "stream",
     "text": [
      "   step      type    amount     nameOrig  oldbalanceOrg  newbalanceOrig  \\\n",
      "0     1   PAYMENT   9839.64  C1231006815       170136.0       160296.36   \n",
      "1     1   PAYMENT   1864.28  C1666544295        21249.0        19384.72   \n",
      "2     1  TRANSFER    181.00  C1305486145          181.0            0.00   \n",
      "3     1  CASH_OUT    181.00   C840083671          181.0            0.00   \n",
      "4     1   PAYMENT  11668.14  C2048537720        41554.0        29885.86   \n",
      "\n",
      "      nameDest  oldbalanceDest  newbalanceDest  isFraud  isFlaggedFraud  \n",
      "0  M1979787155             0.0             0.0        0               0  \n",
      "1  M2044282225             0.0             0.0        0               0  \n",
      "2   C553264065             0.0             0.0        1               0  \n",
      "3    C38997010         21182.0             0.0        1               0  \n",
      "4  M1230701703             0.0             0.0        0               0  \n",
      "\n",
      "\n",
      "               step        amount  oldbalanceOrg  newbalanceOrig  \\\n",
      "count  6.362620e+06  6.362620e+06   6.362620e+06    6.362620e+06   \n",
      "mean   2.433972e+02  1.798619e+05   8.338831e+05    8.551137e+05   \n",
      "std    1.423320e+02  6.038582e+05   2.888243e+06    2.924049e+06   \n",
      "min    1.000000e+00  0.000000e+00   0.000000e+00    0.000000e+00   \n",
      "25%    1.560000e+02  1.338957e+04   0.000000e+00    0.000000e+00   \n",
      "50%    2.390000e+02  7.487194e+04   1.420800e+04    0.000000e+00   \n",
      "75%    3.350000e+02  2.087215e+05   1.073152e+05    1.442584e+05   \n",
      "max    7.430000e+02  9.244552e+07   5.958504e+07    4.958504e+07   \n",
      "\n",
      "       oldbalanceDest  newbalanceDest       isFraud  isFlaggedFraud  \n",
      "count    6.362620e+06    6.362620e+06  6.362620e+06    6.362620e+06  \n",
      "mean     1.100702e+06    1.224996e+06  1.290820e-03    2.514687e-06  \n",
      "std      3.399180e+06    3.674129e+06  3.590480e-02    1.585775e-03  \n",
      "min      0.000000e+00    0.000000e+00  0.000000e+00    0.000000e+00  \n",
      "25%      0.000000e+00    0.000000e+00  0.000000e+00    0.000000e+00  \n",
      "50%      1.327057e+05    2.146614e+05  0.000000e+00    0.000000e+00  \n",
      "75%      9.430367e+05    1.111909e+06  0.000000e+00    0.000000e+00  \n",
      "max      3.560159e+08    3.561793e+08  1.000000e+00    1.000000e+00  \n",
      "\n",
      "\n",
      "<class 'pandas.core.frame.DataFrame'>\n",
      "RangeIndex: 6362620 entries, 0 to 6362619\n",
      "Data columns (total 11 columns):\n",
      "step              int64\n",
      "type              object\n",
      "amount            float64\n",
      "nameOrig          object\n",
      "oldbalanceOrg     float64\n",
      "newbalanceOrig    float64\n",
      "nameDest          object\n",
      "oldbalanceDest    float64\n",
      "newbalanceDest    float64\n",
      "isFraud           int64\n",
      "isFlaggedFraud    int64\n",
      "dtypes: float64(5), int64(3), object(3)\n",
      "memory usage: 534.0+ MB\n",
      "None\n"
     ]
    }
   ],
   "source": [
    "#读取数据集准备\n",
    "dataset_path = './'\n",
    "csvfile_path=os.path.join(dataset_path, 'PS_20174392719_1491204439457_log.csv')\n",
    "\n",
    "#读取数据集\n",
    "raw_data = pd.read_csv(csvfile_path)\n",
    "#查看数据集\n",
    "#数据预览\n",
    "print(raw_data.head())\n",
    "print('\\n')\n",
    "#数据统计信息\n",
    "print(raw_data.describe())\n",
    "print('\\n')\n",
    "#数据集基本信息\n",
    "print(raw_data.info())"
   ]
  },
  {
   "cell_type": "code",
   "execution_count": 3,
   "metadata": {},
   "outputs": [
    {
     "name": "stdout",
     "output_type": "stream",
     "text": [
      "CASH_OUT    2237500\n",
      "PAYMENT     2151495\n",
      "CASH_IN     1399284\n",
      "TRANSFER     532909\n",
      "DEBIT         41432\n",
      "Name: type, dtype: int64\n"
     ]
    },
    {
     "data": {
      "image/png": "[encoded data removed]",
      "text/plain": [
       "<Figure size 576x288 with 1 Axes>"
      ]
     },
     "metadata": {
      "needs_background": "light"
     },
     "output_type": "display_data"
    }
   ],
   "source": [
    "#查看转账类型\n",
    "print(raw_data['type'].value_counts())\n",
    "\n",
    "fig, ax=plt.subplots(1,1,figsize=(8,4))\n",
    "raw_data['type'].value_counts().plot(kind='bar', title='Transaction Type', ax=ax, figsize=(8,4))\n",
    "plt.show()"
   ]
  },
  {
   "cell_type": "code",
   "execution_count": 4,
   "metadata": {},
   "outputs": [
    {
     "data": {
      "image/png": "[encoded data removed]",
      "text/plain": [
       "<Figure size 432x288 with 1 Axes>"
      ]
     },
     "metadata": {
      "needs_background": "light"
     },
     "output_type": "display_data"
    }
   ],
   "source": [
    "#查看转账类型和欺诈标记的记录\n",
    "ax = raw_data.groupby(['type', 'isFraud']).size().plot(kind='bar')\n",
    "ax.set_title(' of transactions vs(type + isFraud)')\n",
    "ax.set_xlabel('(type, isFraud)')\n",
    "ax.set_ylabel(' of transaction')\n",
    "\n",
    "#添加标注\n",
    "for p in ax.patches:\n",
    "    ax.annotate(str(format(int(p.get_height()),',d')),(p.get_x(),p.get_height()*1.01))"
   ]
  },
  {
   "cell_type": "markdown",
   "metadata": {},
   "source": [
    "#### 由上图可以得知, 存在欺诈行为的转账类型为transfer和cash_out两种类型, 后面将单独分析这两种转账类型与欺诈行为之间的关系."
   ]
  },
  {
   "cell_type": "code",
   "execution_count": 5,
   "metadata": {},
   "outputs": [
    {
     "data": {
      "image/png": "[encoded data removed]",
      "text/plain": [
       "<Figure size 432x288 with 1 Axes>"
      ]
     },
     "metadata": {
      "needs_background": "light"
     },
     "output_type": "display_data"
    }
   ],
   "source": [
    "#查看转账类型和商业模型标记的欺诈记录\n",
    "ax=raw_data.groupby(['type', 'isFlaggedFraud']).size().plot(kind='bar')\n",
    "ax.set_title('of transactions vs (type + isFlaggedFraud)')\n",
    "ax.set_xlabel('(type, isFlaggedFraud)')\n",
    "ax.set_ylabel(' of transaction')\n",
    "\n",
    "#添加标注\n",
    "for p in ax.patches:\n",
    "    ax.annotate(str(format(int(p.get_height()),',d')),(p.get_x(),p.get_height()*1.01))"
   ]
  },
  {
   "cell_type": "code",
   "execution_count": 6,
   "metadata": {},
   "outputs": [
    {
     "data": {
      "image/png": "[encoded data removed]",
      "text/plain": [
       "<Figure size 720x720 with 4 Axes>"
      ]
     },
     "metadata": {
      "needs_background": "light"
     },
     "output_type": "display_data"
    }
   ],
   "source": [
    "#重点分析transfer转账类型, 因为其中有欺诈行为, 但商业模型标记的数量占比较低\n",
    "fig,axs=plt.subplots(2,2,figsize=(10,10))\n",
    "transfer_data=raw_data[raw_data['type']=='TRANSFER']\n",
    "\n",
    "a=sns.boxplot(x='isFlaggedFraud',y='amount',data=transfer_data,ax=axs[0][0])\n",
    "axs[0][0].set_yscale('log')\n",
    "\n",
    "b=sns.boxplot(x='isFlaggedFraud',y='oldbalanceDest',data=transfer_data,ax=axs[0][1])\n",
    "axs[0][1].set(ylim=(0,0.5e8))\n",
    "\n",
    "c=sns.boxplot(x='isFlaggedFraud',y='oldbalanceOrg',data=transfer_data,ax=axs[1][0])\n",
    "axs[1][0].set(ylim=(0,3e7))\n",
    "\n",
    "d=sns.regplot(x='oldbalanceOrg',y='amount',data=transfer_data[transfer_data['isFlaggedFraud']==1],ax=axs[1][1])\n",
    "plt.show()"
   ]
  },
  {
   "cell_type": "code",
   "execution_count": 7,
   "metadata": {},
   "outputs": [
    {
     "data": {
      "text/html": [
       "<div>\n",
       "<style>\n",
       "    .dataframe thead tr:only-child th {\n",
       "        text-align: right;\n",
       "    }\n",
       "\n",
       "    .dataframe thead th {\n",
       "        text-align: left;\n",
       "    }\n",
       "\n",
       "    .dataframe tbody tr th {\n",
       "        vertical-align: top;\n",
       "    }\n",
       "</style>\n",
       "<table border=\"1\" class=\"dataframe\">\n",
       "  <thead>\n",
       "    <tr style=\"text-align: right;\">\n",
       "      <th></th>\n",
       "      <th>step</th>\n",
       "      <th>type</th>\n",
       "      <th>amount</th>\n",
       "      <th>nameOrig</th>\n",
       "      <th>oldbalanceOrg</th>\n",
       "      <th>newbalanceOrig</th>\n",
       "      <th>nameDest</th>\n",
       "      <th>oldbalanceDest</th>\n",
       "      <th>newbalanceDest</th>\n",
       "      <th>isFraud</th>\n",
       "      <th>isFlaggedFraud</th>\n",
       "    </tr>\n",
       "  </thead>\n",
       "  <tbody>\n",
       "    <tr>\n",
       "      <th>2</th>\n",
       "      <td>1</td>\n",
       "      <td>TRANSFER</td>\n",
       "      <td>181.00</td>\n",
       "      <td>C1305486145</td>\n",
       "      <td>181.00</td>\n",
       "      <td>0.0</td>\n",
       "      <td>C553264065</td>\n",
       "      <td>0.00</td>\n",
       "      <td>0.00</td>\n",
       "      <td>1</td>\n",
       "      <td>0</td>\n",
       "    </tr>\n",
       "    <tr>\n",
       "      <th>19</th>\n",
       "      <td>1</td>\n",
       "      <td>TRANSFER</td>\n",
       "      <td>215310.30</td>\n",
       "      <td>C1670993182</td>\n",
       "      <td>705.00</td>\n",
       "      <td>0.0</td>\n",
       "      <td>C1100439041</td>\n",
       "      <td>22425.00</td>\n",
       "      <td>0.00</td>\n",
       "      <td>0</td>\n",
       "      <td>0</td>\n",
       "    </tr>\n",
       "    <tr>\n",
       "      <th>24</th>\n",
       "      <td>1</td>\n",
       "      <td>TRANSFER</td>\n",
       "      <td>311685.89</td>\n",
       "      <td>C1984094095</td>\n",
       "      <td>10835.00</td>\n",
       "      <td>0.0</td>\n",
       "      <td>C932583850</td>\n",
       "      <td>6267.00</td>\n",
       "      <td>2719172.89</td>\n",
       "      <td>0</td>\n",
       "      <td>0</td>\n",
       "    </tr>\n",
       "    <tr>\n",
       "      <th>58</th>\n",
       "      <td>1</td>\n",
       "      <td>TRANSFER</td>\n",
       "      <td>62610.80</td>\n",
       "      <td>C1976401987</td>\n",
       "      <td>79114.00</td>\n",
       "      <td>16503.2</td>\n",
       "      <td>C1937962514</td>\n",
       "      <td>517.00</td>\n",
       "      <td>8383.29</td>\n",
       "      <td>0</td>\n",
       "      <td>0</td>\n",
       "    </tr>\n",
       "    <tr>\n",
       "      <th>78</th>\n",
       "      <td>1</td>\n",
       "      <td>TRANSFER</td>\n",
       "      <td>42712.39</td>\n",
       "      <td>C283039401</td>\n",
       "      <td>10363.39</td>\n",
       "      <td>0.0</td>\n",
       "      <td>C1330106945</td>\n",
       "      <td>57901.66</td>\n",
       "      <td>24044.18</td>\n",
       "      <td>0</td>\n",
       "      <td>0</td>\n",
       "    </tr>\n",
       "  </tbody>\n",
       "</table>\n",
       "</div>"
      ],
      "text/plain": [
       "    step      type     amount     nameOrig  oldbalanceOrg  newbalanceOrig  \\\n",
       "2      1  TRANSFER     181.00  C1305486145         181.00             0.0   \n",
       "19     1  TRANSFER  215310.30  C1670993182         705.00             0.0   \n",
       "24     1  TRANSFER  311685.89  C1984094095       10835.00             0.0   \n",
       "58     1  TRANSFER   62610.80  C1976401987       79114.00         16503.2   \n",
       "78     1  TRANSFER   42712.39   C283039401       10363.39             0.0   \n",
       "\n",
       "       nameDest  oldbalanceDest  newbalanceDest  isFraud  isFlaggedFraud  \n",
       "2    C553264065            0.00            0.00        1               0  \n",
       "19  C1100439041        22425.00            0.00        0               0  \n",
       "24   C932583850         6267.00      2719172.89        0               0  \n",
       "58  C1937962514          517.00         8383.29        0               0  \n",
       "78  C1330106945        57901.66        24044.18        0               0  "
      ]
     },
     "execution_count": 7,
     "metadata": {},
     "output_type": "execute_result"
    }
   ],
   "source": [
    "transfer_data.head()"
   ]
  },
  {
   "cell_type": "code",
   "execution_count": 8,
   "metadata": {},
   "outputs": [
    {
     "name": "stderr",
     "output_type": "stream",
     "text": [
      "/Users/dongxiaow/.virtualenvs/mach/lib/python3.6/site-packages/ipykernel_launcher.py:4: SettingWithCopyWarning: \n",
      "A value is trying to be set on a copy of a slice from a DataFrame\n",
      "\n",
      "See the caveats in the documentation: http://pandas.pydata.org/pandas-docs/stable/indexing.html#indexing-view-versus-copy\n",
      "  after removing the cwd from sys.path.\n"
     ]
    },
    {
     "name": "stdout",
     "output_type": "stream",
     "text": [
      "       type     amount  oldbalanceOrg  newbalanceOrig  oldbalanceDest  \\\n",
      "0  TRANSFER     181.00          181.0             0.0             0.0   \n",
      "1  CASH_OUT     181.00          181.0             0.0         21182.0   \n",
      "2  CASH_OUT  229133.94        15325.0             0.0          5083.0   \n",
      "3  TRANSFER  215310.30          705.0             0.0         22425.0   \n",
      "4  TRANSFER  311685.89        10835.0             0.0          6267.0   \n",
      "\n",
      "   newbalanceDest  isFraud  typeCategory  \n",
      "0            0.00        1             1  \n",
      "1            0.00        1             0  \n",
      "2        51513.44        0             0  \n",
      "3            0.00        0             1  \n",
      "4      2719172.89        0             1  \n"
     ]
    }
   ],
   "source": [
    " #处理存在欺诈记录的转账类型的数据\n",
    "used_data=raw_data[(raw_data['type']=='TRANSFER')|(raw_data['type']=='CASH_OUT')]\n",
    "#删除暂时不同的数据列\n",
    "used_data.drop(['step','nameOrig','nameDest','isFlaggedFraud'],axis=1,inplace=True)\n",
    "#重新设置索引\n",
    "used_data=used_data.reset_index(drop=True)\n",
    "\n",
    "#将type转换成Boolean类型数据\n",
    "type_label_encoder=preprocessing.LabelEncoder()\n",
    "type_category=type_label_encoder.fit_transform(used_data['type'].values)\n",
    "used_data['typeCategory']=type_category\n",
    "\n",
    "print(used_data.head())"
   ]
  },
  {
   "cell_type": "code",
   "execution_count": 9,
   "metadata": {},
   "outputs": [
    {
     "data": {
      "text/plain": [
       "<matplotlib.axes._subplots.AxesSubplot at 0x121eacc88>"
      ]
     },
     "execution_count": 9,
     "metadata": {},
     "output_type": "execute_result"
    },
    {
     "data": {
      "image/png": "[encoded data removed]",
      "text/plain": [
       "<Figure size 432x288 with 2 Axes>"
      ]
     },
     "metadata": {
      "needs_background": "light"
     },
     "output_type": "display_data"
    }
   ],
   "source": [
    "#查看变量间的相关性\n",
    "sns.heatmap(used_data.corr())"
   ]
  },
  {
   "cell_type": "code",
   "execution_count": 10,
   "metadata": {},
   "outputs": [
    {
     "data": {
      "image/png": "[encoded data removed]",
      "text/plain": [
       "<Figure size 432x432 with 1 Axes>"
      ]
     },
     "metadata": {
      "needs_background": "light"
     },
     "output_type": "display_data"
    },
    {
     "data": {
      "image/png": "[encoded data removed]",
      "text/plain": [
       "<Figure size 432x288 with 1 Axes>"
      ]
     },
     "metadata": {
      "needs_background": "light"
     },
     "output_type": "display_data"
    }
   ],
   "source": [
    "#查看转账类型记录个数\n",
    "ax=used_data['type'].value_counts().plot(kind='bar',title='Transaction Type',figsize=(6,6))\n",
    "for p in ax.patches:\n",
    "    ax.annotate(str(format(int(p.get_height()),',d')),(p.get_x(),p.get_height()*1.01))\n",
    "plt.show()\n",
    "\n",
    "#查看转账类型中欺诈记录个数\n",
    "ax=pd.value_counts(used_data['isFraud'],sort=True).sort_index().plot(kind='bar',title='Fraud Transaction Count')\n",
    "for p in ax.patches:\n",
    "    ax.annotate(str(format(int(p.get_height()),',d')),(p.get_x(),p.get_height()))\n",
    "plt.show()"
   ]
  },
  {
   "cell_type": "code",
   "execution_count": 11,
   "metadata": {},
   "outputs": [
    {
     "name": "stdout",
     "output_type": "stream",
     "text": [
      "      amount  oldbalanceOrg  newbalanceOrig  oldbalanceDest  newbalanceDest  \\\n",
      "0     181.00          181.0             0.0             0.0            0.00   \n",
      "1     181.00          181.0             0.0         21182.0            0.00   \n",
      "2  229133.94        15325.0             0.0          5083.0        51513.44   \n",
      "3  215310.30          705.0             0.0         22425.0            0.00   \n",
      "4  311685.89        10835.0             0.0          6267.0      2719172.89   \n",
      "\n",
      "   typeCategory  \n",
      "0             1  \n",
      "1             0  \n",
      "2             0  \n",
      "3             1  \n",
      "4             1  \n",
      "0    1\n",
      "1    1\n",
      "2    0\n",
      "3    0\n",
      "4    0\n",
      "Name: isFraud, dtype: int64\n"
     ]
    }
   ],
   "source": [
    "#建立模型进行预测\n",
    "#准备数据\n",
    "feature_names=['amount','oldbalanceOrg','newbalanceOrig','oldbalanceDest','newbalanceDest','typeCategory']\n",
    "x=used_data[feature_names]\n",
    "y=used_data['isFraud']\n",
    "print(x.head())\n",
    "print(y.head())"
   ]
  },
  {
   "cell_type": "code",
   "execution_count": 12,
   "metadata": {},
   "outputs": [
    {
     "name": "stdout",
     "output_type": "stream",
     "text": [
      "非欺诈记录比例: 0.5\n",
      "欺诈记录比例: 0.5\n",
      "欠采样记录数: 16426\n"
     ]
    }
   ],
   "source": [
    "#处理不平衡数据\n",
    "#欺诈记录的条数\n",
    "number_records_fraud=len(used_data[used_data['isFraud']==1])\n",
    "#欺诈记录的索引\n",
    "fraud_indices=used_data[used_data['isFraud']==1].index.values\n",
    "\n",
    "#得到非欺诈记录的索引\n",
    "nonfraud_indices=used_data[used_data['isFraud']==0].index\n",
    "\n",
    "#随机选取相同数量的非欺诈记录\n",
    "random_nonfraud_indices=np.random.choice(nonfraud_indices,number_records_fraud,replace=False)\n",
    "random_nonfraud_indices=np.array(random_nonfraud_indices)\n",
    "\n",
    "#整合两类样本的索引\n",
    "under_sample_indices=np.concatenate([fraud_indices,random_nonfraud_indices])\n",
    "under_sample_data=used_data.iloc[under_sample_indices,:]\n",
    "\n",
    "\n",
    "x_undersample=under_sample_data[feature_names].values\n",
    "y_undersample=under_sample_data['isFraud'].values\n",
    "\n",
    "#显示样本比例\n",
    "print('非欺诈记录比例:', len(under_sample_data[under_sample_data['isFraud']==0])/len(under_sample_data))\n",
    "print('欺诈记录比例:',len(under_sample_data[under_sample_data['isFraud']==1])/len(under_sample_data))\n",
    "print('欠采样记录数:',len(under_sample_data))"
   ]
  },
  {
   "cell_type": "markdown",
   "metadata": {},
   "source": [
    "#### 上述结果恰恰验证了前面数据采集的部分, 因为我们是选用了相同数量的欺诈行为记录和非欺诈行为记录, 因此这些行为的占比会是50%."
   ]
  },
  {
   "cell_type": "code",
   "execution_count": 13,
   "metadata": {
    "scrolled": true
   },
   "outputs": [
    {
     "data": {
      "image/png": "[encoded data removed]",
      "text/plain": [
       "<Figure size 432x288 with 1 Axes>"
      ]
     },
     "metadata": {
      "needs_background": "light"
     },
     "output_type": "display_data"
    }
   ],
   "source": [
    "#采用逻辑回归模型进行预测\n",
    "from sklearn.model_selection import train_test_split\n",
    "from sklearn.linear_model import LogisticRegression\n",
    "from sklearn.metrics import roc_curve,auc\n",
    "\n",
    "#分割训练集和测试集\n",
    "x_train, x_test, y_train, y_test = train_test_split(x_undersample, y_undersample, test_size=0.3,random_state=0)\n",
    "\n",
    "lr_model = LogisticRegression()\n",
    "lr_model.fit(x_train, y_train)\n",
    "\n",
    "y_pred_score = lr_model.decision_function(x_test)\n",
    "\n",
    "fpr,tpr,thresholds = roc_curve(y_test,y_pred_score)\n",
    "roc_auc=auc(fpr,tpr)\n",
    "\n",
    "#制作ROC曲线, 检验该模型的拟合情况\n",
    "plt.title('Receiver Operating Characteristic')\n",
    "plt.plot(fpr, tpr, 'b', label='AUC = %0.2f'% roc_auc)\n",
    "plt.legend(loc='lower right')\n",
    "plt.plot([0,1],[0,1],'r--')\n",
    "plt.xlim([-0.1,1.0])\n",
    "plt.ylim([-0.1,1.01])\n",
    "plt.ylabel('True Positive Rate')\n",
    "plt.xlabel('False Positive Rate')\n",
    "plt.show()"
   ]
  },
  {
   "cell_type": "markdown",
   "metadata": {},
   "source": [
    "#### 如图为ROC曲线, 该曲线向左上角凸出效果显著, 表面该模型拟合状况良好, 能够较为准确地预测客户的欺诈行为.\n",
    "#### 以下内容为该预测模型的基本状况"
   ]
  },
  {
   "cell_type": "code",
   "execution_count": 14,
   "metadata": {},
   "outputs": [
    {
     "name": "stdout",
     "output_type": "stream",
     "text": [
      "LogisticRegression(C=1.0, class_weight=None, dual=False, fit_intercept=True,\n",
      "          intercept_scaling=1, max_iter=100, multi_class='ovr', n_jobs=1,\n",
      "          penalty='l2', random_state=None, solver='liblinear', tol=0.0001,\n",
      "          verbose=0, warm_start=False)\n",
      "[-1.21273105e-09]\n",
      "[[-1.16695120e-06  2.39179121e-05 -2.33567264e-05  1.37031313e-05\n",
      "  -1.39690973e-05  4.77284963e-10]]\n",
      "['amount', 'oldbalanceOrg', 'newbalanceOrig', 'oldbalanceDest', 'newbalanceDest', 'typeCategory']\n"
     ]
    }
   ],
   "source": [
    "print(lr_model)\n",
    "print(lr_model.intercept_ )\n",
    "print(lr_model.coef_)\n",
    "print(x.columns.tolist())"
   ]
  }
 ],
 "metadata": {
  "kernelspec": {
   "display_name": "Python 3",
   "language": "python",
   "name": "python3"
  },
  "language_info": {
   "codemirror_mode": {
    "name": "ipython",
    "version": 3
   },
   "file_extension": ".py",
   "mimetype": "text/x-python",
   "name": "python",
   "nbconvert_exporter": "python",
   "pygments_lexer": "ipython3",
   "version": "3.6.4"
  }
 },
 "nbformat": 4,
 "nbformat_minor": 2
}
